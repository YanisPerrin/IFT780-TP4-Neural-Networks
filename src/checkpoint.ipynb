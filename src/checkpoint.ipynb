{
 "cells": [
  {
   "cell_type": "markdown",
   "source": [
    "# Checkpoint\n",
    "\n",
    "Checkpoints of models are saved in the `src/checkpoints` directory. The checkpoint is saved after every epoch if validation accuracy is improved. The checkpoint is saved in the format `model_name.pt`.\n",
    "\n",
    "If you want to enable the checkpoint saving, you can add the `--save_checkpoint` argument. By default, it is disabled.\n",
    "\n",
    "If you want to load the checkpoint, you can add the `--load_checkpoint` argument with the path to the checkpoint file (ex: `--load_checkpoint=checkpoints/UNet.pt`)."
   ],
   "metadata": {
    "collapsed": false
   },
   "id": "11ce2fbb6bd4dfe6"
  },
  {
   "cell_type": "code",
   "execution_count": null,
   "outputs": [],
   "source": [
    "from google.colab import drive\n",
    "drive.mount('/content/drive')\n",
    "!cp -r drive/MyDrive/Tp4/* ."
   ],
   "metadata": {
    "collapsed": false
   },
   "id": "b12d55380448dae6"
  },
  {
   "cell_type": "code",
   "execution_count": null,
   "outputs": [],
   "source": [
    "!pip install -r requirements.txt"
   ],
   "metadata": {
    "collapsed": false
   },
   "id": "89c6381886b6c86d"
  },
  {
   "cell_type": "code",
   "execution_count": null,
   "outputs": [],
   "source": [
    "cd src/"
   ],
   "metadata": {
    "collapsed": false
   },
   "id": "b7d86b5f4cd0bb05"
  },
  {
   "cell_type": "markdown",
   "source": [
    "## Save Checkpoint"
   ],
   "metadata": {
    "collapsed": false
   },
   "id": "93b622b2253fab0c"
  },
  {
   "cell_type": "code",
   "execution_count": 5,
   "outputs": [
    {
     "name": "stdout",
     "output_type": "stream",
     "text": [
      "Checkpoints will be saved!\r\n",
      "Data augmentation NOT activated!\r\n",
      "Files already downloaded and verified\r\n",
      "Files already downloaded and verified\r\n",
      "Using mps. \r\n",
      "Training UNet on acdc for 2 epochs\r\n",
      "Epoch: 1 of 2\r\n",
      "100%|█████████| 64/64 [00:57<00:00,  1.12it/s, Train loss=1.3, train_acc=0.0253]\r\n",
      "Validation loss 1.293\r\n",
      "Validation accuracy 0.031\r\n",
      "best_val_acc: 0.0 | val_acc: 0.030539361760020256\r\n",
      "Saving model...\r\n",
      "Epoch: 2 of 2\r\n",
      "100%|████████| 64/64 [00:59<00:00,  1.07it/s, Train loss=1.16, train_acc=0.0353]\r\n",
      "Validation loss 1.093\r\n",
      "Validation accuracy 0.051\r\n",
      "best_val_acc: 0.030539361760020256 | val_acc: 0.051313082221895456\r\n",
      "Saving model...\r\n",
      "Finished training.\r\n",
      "Accuracy of the network on the test set: 4.431 %\r\n",
      "Figure(1000x1000)\r\n",
      "Figure(1000x1000)\r\n",
      "Figure(1000x1000)\r\n",
      "Figure(1000x500)\r\n"
     ]
    }
   ],
   "source": [
    "!python3 train.py --model=UNet --num-epochs=2 --save_checkpoint"
   ],
   "metadata": {
    "collapsed": false,
    "ExecuteTime": {
     "end_time": "2024-04-09T17:26:58.022608Z",
     "start_time": "2024-04-09T17:24:43.306215Z"
    }
   },
   "id": "e35d1137eb930151"
  },
  {
   "cell_type": "markdown",
   "source": [
    "## Load Checkpoint\n",
    "\n",
    "The first two epochs are trained and the checkpoint is saved. Now, we will load the checkpoint and continue training for 2 more epochs."
   ],
   "metadata": {
    "collapsed": false
   },
   "id": "8837f7a553d54c5"
  },
  {
   "cell_type": "code",
   "execution_count": 6,
   "outputs": [
    {
     "name": "stdout",
     "output_type": "stream",
     "text": [
      "Checkpoints will be saved!\r\n",
      "Checkpoint file found!\r\n",
      "Data augmentation NOT activated!\r\n",
      "Files already downloaded and verified\r\n",
      "Files already downloaded and verified\r\n",
      "Using mps. \r\n",
      "Training UNet on acdc for 4 epochs\r\n",
      "Model loaded from checkpoints/UNet.pt at epoch 1.\r\n",
      "Epoch: 3 of 4\r\n",
      "100%|████████| 64/64 [00:57<00:00,  1.11it/s, Train loss=1.06, train_acc=0.0447]\r\n",
      "Validation loss 0.973\r\n",
      "Validation accuracy 0.036\r\n",
      "best_val_acc: 0.0 | val_acc: 0.0360072732437402\r\n",
      "Saving model...\r\n",
      "Epoch: 4 of 4\r\n",
      "100%|███████| 64/64 [00:59<00:00,  1.07it/s, Train loss=0.965, train_acc=0.0539]\r\n",
      "Validation loss 0.951\r\n",
      "Validation accuracy 0.049\r\n",
      "best_val_acc: 0.0360072732437402 | val_acc: 0.04881478985771537\r\n",
      "Saving model...\r\n",
      "Finished training.\r\n",
      "Accuracy of the network on the test set: 6.036 %\r\n",
      "Figure(1000x1000)\r\n",
      "Figure(1000x1000)\r\n",
      "Figure(1000x1000)\r\n",
      "Figure(1000x500)\r\n"
     ]
    }
   ],
   "source": [
    "!python3 train.py --model=UNet --num-epochs=4 --save_checkpoint --load_checkpoint=checkpoints/UNet.pt"
   ],
   "metadata": {
    "collapsed": false,
    "ExecuteTime": {
     "end_time": "2024-04-09T17:29:56.614375Z",
     "start_time": "2024-04-09T17:27:40.867938Z"
    }
   },
   "id": "7d871884e99d7cde"
  }
 ],
 "metadata": {
  "kernelspec": {
   "display_name": "Python 3",
   "language": "python",
   "name": "python3"
  },
  "language_info": {
   "codemirror_mode": {
    "name": "ipython",
    "version": 2
   },
   "file_extension": ".py",
   "mimetype": "text/x-python",
   "name": "python",
   "nbconvert_exporter": "python",
   "pygments_lexer": "ipython2",
   "version": "2.7.6"
  }
 },
 "nbformat": 4,
 "nbformat_minor": 5
}
