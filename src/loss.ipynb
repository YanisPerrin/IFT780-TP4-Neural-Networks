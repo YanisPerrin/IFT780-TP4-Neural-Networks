{
  "cells": [
    {
      "cell_type": "markdown",
      "source": [
        "# Loss\n",
        "\n",
        "The loss function to use can be set by the `--loss` argument. The following loss functions are available:\n",
        "- \"CE\": Cross-entropy loss\n",
        "- \"Dice\": Dice loss\n",
        "- \"DiceCE\": Dice loss + cross-entropy loss\n",
        "- \"Asym\": Asymmetric loss"
      ],
      "metadata": {
        "collapsed": false,
        "id": "749be9bd3473b7c4"
      },
      "id": "749be9bd3473b7c4"
    },
    {
      "cell_type": "code",
      "source": [
        "from google.colab import drive\n",
        "drive.mount('/content/drive')\n",
        "!cp -r drive/MyDrive/Tp4/* ."
      ],
      "metadata": {
        "id": "94xbHou52oXD"
      },
      "id": "94xbHou52oXD",
      "execution_count": null,
      "outputs": []
    },
    {
      "cell_type": "code",
      "source": [
        "!pip install -r requirements.txt"
      ],
      "metadata": {
        "id": "d9XVdYUq7KiT"
      },
      "id": "d9XVdYUq7KiT",
      "execution_count": null,
      "outputs": []
    },
    {
      "cell_type": "code",
      "source": [
        "cd src/"
      ],
      "metadata": {
        "id": "tzB_nchAMAIk"
      },
      "id": "tzB_nchAMAIk",
      "execution_count": null,
      "outputs": []
    },
    {
      "cell_type": "markdown",
      "source": [
        "## Cross-entropy loss"
      ],
      "metadata": {
        "collapsed": false,
        "id": "2c92e7dca3b17497"
      },
      "id": "2c92e7dca3b17497"
    },
    {
      "cell_type": "code",
      "execution_count": 12,
      "id": "initial_id",
      "metadata": {
        "collapsed": true,
        "colab": {
          "base_uri": "https://localhost:8080/"
        },
        "id": "initial_id",
        "outputId": "a2d276ff-6570-4f26-cf34-cb4a01294be3"
      },
      "outputs": [
        {
          "output_type": "stream",
          "name": "stdout",
          "text": [
            "Checkpoints will NOT be saved!\n",
            "Checkpoint file found!\n",
            "Data augmentation NOT activated!\n",
            "Training UNet on acdc for 2 epochs\n",
            "Epoch: 1 of 2\n",
            "100% 320/320 [01:16<00:00,  4.20it/s, Train loss=1.12, train_acc=0.0306]\n",
            "Validation loss 0.920\n",
            "Validation accuracy 0.032\n",
            "Epoch: 2 of 2\n",
            "100% 320/320 [01:19<00:00,  4.01it/s, Train loss=0.735, train_acc=0.0513]\n",
            "Validation loss 0.674\n",
            "Validation accuracy 0.050\n",
            "Finished training.\n",
            "Accuracy of the network on the test set: 5.654 %\n",
            "Figure(1000x1000)\n",
            "Figure(1000x1000)\n",
            "Figure(1000x1000)\n",
            "Figure(1000x500)\n"
          ]
        }
      ],
      "source": [
        "!python3 train.py --model=UNet --num-epochs=2 --batch_size=4 --loss=CE"
      ]
    },
    {
      "cell_type": "markdown",
      "source": [
        "## Dice loss"
      ],
      "metadata": {
        "collapsed": false,
        "id": "2b754647df785cd2"
      },
      "id": "2b754647df785cd2"
    },
    {
      "cell_type": "code",
      "execution_count": 13,
      "outputs": [
        {
          "output_type": "stream",
          "name": "stdout",
          "text": [
            "Checkpoints will NOT be saved!\n",
            "Checkpoint file found!\n",
            "Data augmentation NOT activated!\n",
            "Training UNet on acdc for 2 epochs\n",
            "Epoch: 1 of 2\n",
            "100% 320/320 [01:20<00:00,  3.96it/s, Train loss=0.937, train_acc=0.0634]\n",
            "Validation loss 0.914\n",
            "Validation accuracy 0.086\n",
            "Epoch: 2 of 2\n",
            "100% 320/320 [01:20<00:00,  4.00it/s, Train loss=0.846, train_acc=0.154]\n",
            "Validation loss 0.809\n",
            "Validation accuracy 0.191\n",
            "Finished training.\n",
            "Accuracy of the network on the test set: 24.119 %\n",
            "Figure(1000x1000)\n",
            "Figure(1000x1000)\n",
            "Figure(1000x1000)\n",
            "Figure(1000x500)\n"
          ]
        }
      ],
      "source": [
        "!python3 train.py --model=UNet --num-epochs=2 --batch_size=4 --loss=Dice"
      ],
      "metadata": {
        "colab": {
          "base_uri": "https://localhost:8080/"
        },
        "id": "76ebb00b39f14309",
        "outputId": "ed3e6b4b-355f-4290-9f1f-29333e8875ff"
      },
      "id": "76ebb00b39f14309"
    },
    {
      "cell_type": "markdown",
      "source": [
        "## Dice loss + cross-entropy loss"
      ],
      "metadata": {
        "collapsed": false,
        "id": "6008103b3c89bd29"
      },
      "id": "6008103b3c89bd29"
    },
    {
      "cell_type": "code",
      "execution_count": 14,
      "outputs": [
        {
          "output_type": "stream",
          "name": "stdout",
          "text": [
            "Checkpoints will NOT be saved!\n",
            "Checkpoint file found!\n",
            "Data augmentation NOT activated!\n",
            "Training UNet on acdc for 2 epochs\n",
            "Epoch: 1 of 2\n",
            "100% 320/320 [01:20<00:00,  3.98it/s, Train loss=2.09, train_acc=0.0351]\n",
            "Validation loss 1.914\n",
            "Validation accuracy 0.042\n",
            "Epoch: 2 of 2\n",
            "100% 320/320 [01:20<00:00,  4.00it/s, Train loss=1.68, train_acc=0.0637]\n",
            "Validation loss 1.575\n",
            "Validation accuracy 0.065\n",
            "Finished training.\n",
            "Accuracy of the network on the test set: 7.832 %\n",
            "Figure(1000x1000)\n",
            "Figure(1000x1000)\n",
            "Figure(1000x1000)\n",
            "Figure(1000x500)\n"
          ]
        }
      ],
      "source": [
        "!python3 train.py --model=UNet --num-epochs=2 --batch_size=4 --loss=DiceCE"
      ],
      "metadata": {
        "colab": {
          "base_uri": "https://localhost:8080/"
        },
        "id": "9adb70aa03ec756d",
        "outputId": "2e88c9cd-5afb-4642-e5d3-67ca0bd7e1cd"
      },
      "id": "9adb70aa03ec756d"
    },
    {
      "cell_type": "markdown",
      "source": [
        "## Asymmetric loss"
      ],
      "metadata": {
        "collapsed": false,
        "id": "ff9395ef0fb8910b"
      },
      "id": "ff9395ef0fb8910b"
    },
    {
      "cell_type": "code",
      "execution_count": 15,
      "outputs": [
        {
          "output_type": "stream",
          "name": "stdout",
          "text": [
            "Checkpoints will NOT be saved!\n",
            "Checkpoint file found!\n",
            "Data augmentation NOT activated!\n",
            "Training UNet on acdc for 2 epochs\n",
            "Epoch: 1 of 2\n",
            "100% 320/320 [01:21<00:00,  3.94it/s, Train loss=0.323, train_acc=0.0224]\n",
            "Validation loss -0.078\n",
            "Validation accuracy 0.025\n",
            "Epoch: 2 of 2\n",
            "100% 320/320 [01:20<00:00,  4.00it/s, Train loss=-0.109, train_acc=0.0213]\n",
            "Validation loss -0.301\n",
            "Validation accuracy 0.025\n",
            "Finished training.\n",
            "Accuracy of the network on the test set: 2.213 %\n",
            "Figure(1000x1000)\n",
            "Figure(1000x1000)\n",
            "Figure(1000x1000)\n",
            "Figure(1000x500)\n"
          ]
        }
      ],
      "source": [
        "!python3 train.py --model=UNet --num-epochs=2 --batch_size=4 --loss=Asym"
      ],
      "metadata": {
        "colab": {
          "base_uri": "https://localhost:8080/"
        },
        "id": "ae6ed5064b14fb43",
        "outputId": "26d8ef2f-be2d-4bc8-f6c6-a915c9e09184"
      },
      "id": "ae6ed5064b14fb43"
    }
  ],
  "metadata": {
    "kernelspec": {
      "name": "python3",
      "language": "python",
      "display_name": "Python 3 (ipykernel)"
    },
    "language_info": {
      "codemirror_mode": {
        "name": "ipython",
        "version": 2
      },
      "file_extension": ".py",
      "mimetype": "text/x-python",
      "name": "python",
      "nbconvert_exporter": "python",
      "pygments_lexer": "ipython2",
      "version": "2.7.6"
    },
    "colab": {
      "provenance": [],
      "gpuType": "T4"
    },
    "accelerator": "GPU"
  },
  "nbformat": 4,
  "nbformat_minor": 5
}